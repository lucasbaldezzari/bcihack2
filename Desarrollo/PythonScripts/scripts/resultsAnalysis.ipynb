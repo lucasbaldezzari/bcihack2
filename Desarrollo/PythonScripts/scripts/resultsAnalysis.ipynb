{
 "cells": [
  {
   "cell_type": "code",
   "execution_count": 1,
   "metadata": {},
   "outputs": [],
   "source": [
    "## importamos librerias\n",
    "import pandas as pd\n",
    "import numpy as np\n",
    "import matplotlib.pyplot as plt"
   ]
  },
  {
   "cell_type": "code",
   "execution_count": 53,
   "metadata": {},
   "outputs": [
    {
     "name": "stdout",
     "output_type": "stream",
     "text": [
      "Guardamos el dataframe en data\\promedios\\promedios_ejecutado_comb1.csv\n",
      "Guardamos el dataframe en data\\promedios\\promedios_imaginado_comb1.csv\n",
      "Guardamos el dataframe en data\\promedios\\promedios_ejecutado_comb2.csv\n",
      "Guardamos el dataframe en data\\promedios\\promedios_imaginado_comb2.csv\n",
      "Guardamos el dataframe en data\\promedios\\promedios_ejecutado_comb3.csv\n",
      "Guardamos el dataframe en data\\promedios\\promedios_imaginado_comb3.csv\n",
      "Guardamos el dataframe en data\\promedios\\promedios_ejecutado_comb4.csv\n",
      "Guardamos el dataframe en data\\promedios\\promedios_imaginado_comb4.csv\n"
     ]
    }
   ],
   "source": [
    "## importamos los datos\n",
    "sujetos = [1,2,3,4,6,8,10]\n",
    "combinaciones = [1,2,3,4]\n",
    "tareas = [\"ejecutado\", \"imaginado\"] #\n",
    "\n",
    "## por cada sujeto cargamos los datos en el txt y luego en un dataframe y vamos concatenando cada dataframe\n",
    "## seteamos los índeces en LDA y SVM\n",
    "for c in combinaciones:\n",
    "    for t in tareas:\n",
    "        for i in sujetos: #contatenamos los dataframes de cada sujeto\n",
    "            path = f\"data\\\\sujeto_{i}\\\\dataframes\\\\df_{t}_comb{c}.txt\"\n",
    "            data = pd.read_csv(path, sep = '\\t')\n",
    "            if i == 1:\n",
    "                df = data\n",
    "            else:\n",
    "                df = pd.concat([df, data], axis = 0)\n",
    "\n",
    "        df.rename(columns = {'Unnamed: 0':'Clasificador'}, inplace = True)\n",
    "        df.set_index('Clasificador', inplace = True)\n",
    "        df[\"Precision\"] = df[\"Precision\"].round(2)*100\n",
    "        df[\"Recall\"] = df[\"Recall\"].round(2)*100\n",
    "        df[\"F1-Score\"] = df[\"F1-Score\"].round(2)*100\n",
    "        #Agregamos una nueva columna en donde por cada par LDA,SVM se agrega el número del sujeto de 1 a len(sujetos)\n",
    "        # df[\"Sujeto\"] = np.repeat(sujetos, 2)\n",
    "        ## agregamos una fila con los valores promedios +- el desvío estándar de cada métrica (columna)\n",
    "        ## combinamos Promedio y Desvio en una sola fila, cada valor separado por un -\n",
    "        df.loc['Avg-std'] = np.round(df.mean(),2).astype(str) + \"-\" + np.round(df.std(),2).astype(str)+\"%\"\n",
    "\n",
    "        \n",
    "\n",
    "        ## guardamos el dataframe en un csv\n",
    "        filename = f\"data\\\\promedios\\\\promedios_{t}_comb{c}.csv\"\n",
    "        df.to_csv(filename, sep = '\\t')\n",
    "        print(f\"Guardamos el dataframe en {filename}\")"
   ]
  },
  {
   "cell_type": "code",
   "execution_count": 49,
   "metadata": {},
   "outputs": [
    {
     "data": {
      "text/plain": [
       "(14,)"
      ]
     },
     "execution_count": 49,
     "metadata": {},
     "output_type": "execute_result"
    }
   ],
   "source": [
    "np.repeat(sujetos, 2).shape"
   ]
  }
 ],
 "metadata": {
  "kernelspec": {
   "display_name": "bcihack2",
   "language": "python",
   "name": "python3"
  },
  "language_info": {
   "codemirror_mode": {
    "name": "ipython",
    "version": 3
   },
   "file_extension": ".py",
   "mimetype": "text/x-python",
   "name": "python",
   "nbconvert_exporter": "python",
   "pygments_lexer": "ipython3",
   "version": "3.10.9"
  },
  "orig_nbformat": 4
 },
 "nbformat": 4,
 "nbformat_minor": 2
}
